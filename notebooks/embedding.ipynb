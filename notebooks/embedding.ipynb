{
 "cells": [
  {
   "cell_type": "code",
   "execution_count": 1,
   "id": "8c012637",
   "metadata": {},
   "outputs": [],
   "source": [
    "import pandas as pd\n",
    "import os\n",
    "from transformers import BertTokenizer, BertModel, ViTFeatureExtractor, ViTModel\n",
    "from tqdm.notebook import tqdm\n",
    "import torch\n",
    "from PIL import Image"
   ]
  },
  {
   "cell_type": "code",
   "execution_count": null,
   "id": "d4ae97b6",
   "metadata": {},
   "outputs": [],
   "source": [
    "# df_train = pd.read_pickle(\"..\\\\data\\\\processed\\\\df_train.pkl\")\n",
    "# df_test = pd.read_pickle(\"..\\\\data\\\\processed\\\\df_test.pkl\")\n",
    "\n",
    "df = pd.read_csv(\"..\\\\data\\\\interim\\\\train_interim_filtered_singlelabel_selectedcuis.pkl\")\n"
   ]
  },
  {
   "cell_type": "markdown",
   "id": "5dbac1a5",
   "metadata": {},
   "source": [
    "# Text embedding"
   ]
  },
  {
   "cell_type": "markdown",
   "id": "081eda0d",
   "metadata": {},
   "source": [
    "### BERT\n"
   ]
  },
  {
   "cell_type": "code",
   "execution_count": 7,
   "id": "f576861e",
   "metadata": {},
   "outputs": [],
   "source": [
    "tokenizer = BertTokenizer.from_pretrained('bert-base-uncased')\n",
    "model = BertModel.from_pretrained('bert-base-uncased')\n",
    "model.eval()  # modalità valutazione\n",
    "\n",
    "def get_bert_embeddings(texts, tokenizer, model, batch_size=64, split=\"train\", output_file='rocov2_captions_embeddings.pt'):\n",
    "    device = torch.device(\"cuda\" if torch.cuda.is_available() else \"cpu\")\n",
    "    num_texts = len(texts)\n",
    "    embeddings = []\n",
    "   # Move model to the selected device\n",
    "    model.to(device)\n",
    "   # Initialize tqdm to track progress\n",
    "    pbar = tqdm(total=num_texts, desc=f\"Embedding texts {split}\", unit=\"texts\")\n",
    "    for i in range(0, num_texts, batch_size):\n",
    "        batch_texts = texts[i:i+batch_size]\n",
    "        # Tokenize batch of texts\n",
    "        inputs = tokenizer(batch_texts, return_tensors='pt', padding=True, truncation=True, max_length=512).to(device)\n",
    "        # Process batch with the model\n",
    "        with torch.no_grad():\n",
    "            outputs = model(**inputs)\n",
    "        # Calculate embeddings (mean pooling)\n",
    "        batch_embeddings = outputs.last_hidden_state.mean(dim=1)\n",
    "        # Accumulate batch embeddings\n",
    "        embeddings.append(batch_embeddings)\n",
    "        # Update progress bar\n",
    "        pbar.update(len(batch_texts))\n",
    "    # Close progress bar\n",
    "    pbar.close()\n",
    "    # Concatenate embeddings of all batches\n",
    "    embeddings = torch.cat(embeddings, dim=0)\n",
    "    # Save embeddings directly as a tensor\n",
    "    torch.save(embeddings, output_file)\n",
    "    print(f\"Embeddings saved to {output_file}\")\n",
    "\n",
    "    return embeddings"
   ]
  },
  {
   "cell_type": "code",
   "execution_count": 14,
   "id": "fcb17c09",
   "metadata": {},
   "outputs": [
    {
     "data": {
      "application/vnd.jupyter.widget-view+json": {
       "model_id": "8c6e9768d4a145e895dec1b3c1d061d1",
       "version_major": 2,
       "version_minor": 0
      },
      "text/plain": [
       "Embedding texts train_filtered_vec:   0%|          | 0/2227 [00:00<?, ?texts/s]"
      ]
     },
     "metadata": {},
     "output_type": "display_data"
    },
    {
     "name": "stdout",
     "output_type": "stream",
     "text": [
      "Embeddings saved to ..\\data\\interim\\rocov2_captions_embeddings_train_filtered_vec.pt\n"
     ]
    }
   ],
   "source": [
    "# text_embeddings_train = get_bert_embeddings(df_train[\"Caption\"].tolist(),tokenizer,model,split=\"train\", output_file=\"..\\\\data\\\\processed\\\\rocov2_captions_embeddings_train.pt\")\n",
    "# text_embeddings_test = get_bert_embeddings(df_test[\"Caption\"].tolist(),tokenizer,model, split=\"test\", output_file=\"..\\\\data\\\\processed\\\\rocov2_captions_embeddings_test.pt\")\n",
    "\n",
    "text_embeddings = get_bert_embeddings(df[\"Caption\"].tolist(),tokenizer,model,split=\"train_filtered_vec\", output_file=\"..\\\\data\\\\interim\\\\rocov2_captions_embeddings_train_filtered_vec.pt\")"
   ]
  },
  {
   "cell_type": "markdown",
   "id": "747b791c",
   "metadata": {},
   "source": [
    "# Image embedding"
   ]
  },
  {
   "cell_type": "markdown",
   "id": "a1b530bd",
   "metadata": {},
   "source": [
    "### ViT"
   ]
  },
  {
   "cell_type": "code",
   "execution_count": null,
   "id": "a28669cf",
   "metadata": {},
   "outputs": [],
   "source": [
    "model_name = \"google/vit-base-patch16-224-in21k\"  # o google/vit-base-patch16-224\n",
    "feature_extractor = ViTFeatureExtractor.from_pretrained(model_name)\n",
    "vit_model = ViTModel.from_pretrained(model_name)\n",
    "vit_model.eval()\n",
    "device = torch.device(\"cuda\" if torch.cuda.is_available() else \"cpu\")\n",
    "vit_model.to(device)\n",
    "\n",
    "def get_vit_embeddings(image_paths, model, processor, device='cuda', batch_size=32, split=\"train\", output_file=\"..\\\\data\\\\processed\\\\rocov2_image_embeddings_train.pt\"):\n",
    "    base_dir = \"..\\\\data\\\\raw\\\\train\"\n",
    "    all_emb = []\n",
    "    num_images = len(image_paths)\n",
    "    pbar = tqdm(total=num_images, desc=f\"Embedding images ({split})\", unit=\"images\")\n",
    "    for i in range(0, len(image_paths), batch_size):\n",
    "        batch_paths = image_paths[i:i+batch_size]\n",
    "        images = [Image.open(os.path.join(base_dir, path)).convert(\"RGB\") for path in batch_paths]\n",
    "        \n",
    "        inputs = processor(images=images, return_tensors=\"pt\", padding=True, truncation=True)\n",
    "        inputs = {k: v.to(device) for k, v in inputs.items()}\n",
    "        \n",
    "        with torch.no_grad():\n",
    "            outputs = model(**inputs)\n",
    "        \n",
    "        cls_tokens = outputs.last_hidden_state[:, 0, :]  # shape: (batch_size, hidden_size)\n",
    "        all_emb.append(cls_tokens.cpu())\n",
    "        pbar.update(len(batch_paths))\n",
    "    \n",
    "    pbar.close()\n",
    "    # Combine embeddings in one tensor\n",
    "    full_embeddings = torch.cat(all_emb, dim=0)  # shape: (n_images, hidden_size)\n",
    "    \n",
    "    # Save file\n",
    "    torch.save(full_embeddings, output_file)\n",
    "\n",
    "    return full_embeddings\n",
    "\n"
   ]
  },
  {
   "cell_type": "code",
   "execution_count": 15,
   "id": "decd5c04",
   "metadata": {},
   "outputs": [
    {
     "data": {
      "application/vnd.jupyter.widget-view+json": {
       "model_id": "07ef3d0c839841b8a6a99d5b9537fd1e",
       "version_major": 2,
       "version_minor": 0
      },
      "text/plain": [
       "Embedding images (train_filtered_vec):   0%|          | 0/2227 [00:00<?, ?images/s]"
      ]
     },
     "metadata": {},
     "output_type": "display_data"
    },
    {
     "name": "stderr",
     "output_type": "stream",
     "text": [
      "d:\\Multimodal embedding\\myenv\\Lib\\site-packages\\transformers\\image_processing_utils.py:44: UserWarning: The following named arguments are not valid for `ViTFeatureExtractor.preprocess` and were ignored: 'padding', 'truncation'\n",
      "  return self.preprocess(images, **kwargs)\n"
     ]
    }
   ],
   "source": [
    "# image_embeddings_train = get_vit_embeddings(df_train[\"image_path\"].tolist(), vit_model, feature_extractor, split=\"train\", output_file=\"..\\\\data\\\\processed\\\\rocov2_image_embeddings_train.pt\")\n",
    "# image_embeddings_test = get_vit_embeddings(df_test[\"image_path\"].tolist(), vit_model, feature_extractor, split=\"test\", output_file=\"..\\\\data\\\\processed\\\\rocov2_image_embeddings_test.pt\")\n",
    "\n",
    "image_embeddings = get_vit_embeddings(df[\"Image\"].tolist(), vit_model, feature_extractor, split=\"train_filtered_vec\", output_file=\"..\\\\data\\\\interim\\\\rocov2_image_embeddings_train_filtered_vec.pt\")"
   ]
  }
 ],
 "metadata": {
  "kernelspec": {
   "display_name": "myenv",
   "language": "python",
   "name": "python3"
  },
  "language_info": {
   "codemirror_mode": {
    "name": "ipython",
    "version": 3
   },
   "file_extension": ".py",
   "mimetype": "text/x-python",
   "name": "python",
   "nbconvert_exporter": "python",
   "pygments_lexer": "ipython3",
   "version": "3.12.10"
  }
 },
 "nbformat": 4,
 "nbformat_minor": 5
}
