{
 "cells": [
  {
   "cell_type": "code",
   "execution_count": null,
   "id": "095be16a",
   "metadata": {},
   "outputs": [
    {
     "ename": "",
     "evalue": "",
     "output_type": "error",
     "traceback": [
      "\u001b[1;31mThe Kernel crashed while executing code in the current cell or a previous cell. \n",
      "\u001b[1;31mPlease review the code in the cell(s) to identify a possible cause of the failure. \n",
      "\u001b[1;31mClick <a href='https://aka.ms/vscodeJupyterKernelCrash'>here</a> for more info. \n",
      "\u001b[1;31mView Jupyter <a href='command:jupyter.viewOutput'>log</a> for further details."
     ]
    },
    {
     "ename": "",
     "evalue": "",
     "output_type": "error",
     "traceback": [
      "\u001b[1;31mThe Kernel crashed while executing code in the current cell or a previous cell. \n",
      "\u001b[1;31mPlease review the code in the cell(s) to identify a possible cause of the failure. \n",
      "\u001b[1;31mClick <a href='https://aka.ms/vscodeJupyterKernelCrash'>here</a> for more info. \n",
      "\u001b[1;31mView Jupyter <a href='command:jupyter.viewOutput'>log</a> for further details."
     ]
    }
   ],
   "source": [
    "import pandas as pd\n",
    "import os\n",
    "import numpy as np\n",
    "from umls_api import API\n",
    "from dotenv import load_dotenv\n",
    "import pickle\n",
    "import itertools\n",
    "\n",
    "load_dotenv()"
   ]
  },
  {
   "cell_type": "code",
   "execution_count": 9,
   "id": "e370722a",
   "metadata": {},
   "outputs": [],
   "source": [
    "# Get a list of all the cuis\n",
    "df_cuis = pd.concat([pd.read_csv(\"..\\\\data\\\\raw\\\\train_concepts.csv\").set_index(\"ID\"),pd.read_csv(\"..\\\\data\\\\raw\\\\test_concepts.csv\").set_index(\"ID\")])\n",
    "xss = [cuis.split(\";\") for cuis in df_cuis[\"CUIs\"]]\n",
    "cuis = [x for xs in xss for x in xs]"
   ]
  },
  {
   "cell_type": "code",
   "execution_count": 12,
   "id": "2370acf9",
   "metadata": {},
   "outputs": [],
   "source": [
    "# get the 200 most frequent cuis\n",
    "def get_top_cuis_rank(cui_list, k_items=200):\n",
    "    # conta le occorrenze\n",
    "    counts = {}\n",
    "    for cui in cui_list:\n",
    "        counts[cui] = counts.get(cui, 0) + 1\n",
    "\n",
    "    # ordina per frequenza decrescente\n",
    "    sorted_cuis = sorted(counts.items(), key=lambda item: item[1], reverse=True)\n",
    "\n",
    "    # prendi solo i k più frequenti\n",
    "    top_k = itertools.islice(sorted_cuis, k_items)\n",
    "\n",
    "    # crea mapping CUI -> rank (partendo da 1)\n",
    "    rank_mapping = {cui: rank for rank, (cui, _) in enumerate(top_k, start=1)}\n",
    "    return rank_mapping\n",
    "\n",
    "\n",
    "most_frequent_cuis = get_top_cuis_rank(cuis)"
   ]
  },
  {
   "cell_type": "markdown",
   "id": "04b16c17",
   "metadata": {},
   "source": [
    "# Creating interim dataframe\n",
    "Get image, text, CUIs of the train and test split."
   ]
  },
  {
   "cell_type": "code",
   "execution_count": null,
   "id": "202ec6da",
   "metadata": {},
   "outputs": [],
   "source": [
    "def create_dataframe(split):\n",
    "    \"\"\"Creates a pandas dataframe for the RocoV2 dataset\"\"\"\n",
    "    base_dir = \"..\\\\data\\\\raw\"\n",
    "    images_dir = f\"{base_dir}\\\\{split}\"\n",
    "    captions_path = f\"{base_dir}\\\\{split}_captions.csv\"\n",
    "    concepts_path = f\"{base_dir}\\\\{split}_concepts.csv\"\n",
    "    \n",
    "    \n",
    "    # ---------------------- CUIs filering ----------------------\n",
    "    \n",
    "    # create cuis_list and make cuis into a list\n",
    "    df = pd.read_csv(concepts_path)    \n",
    "    df[\"CUIs\"] = df[\"CUIs\"].str.split(\";\") \n",
    "\n",
    "    \n",
    "    def filter_and_clean_cuis(cuis_list, frequent_cuis_set):\n",
    "        \"\"\"Deletes every non-frequent CUI\"\"\"\n",
    "        if not isinstance(cuis_list, list):\n",
    "            return None\n",
    "        \n",
    "        filtered = [c for c in cuis_list if c in frequent_cuis_set]\n",
    "        return filtered if filtered else None\n",
    "    \n",
    "    # deletes non frequent cuis\n",
    "    df[\"CUIs\"] = df[\"CUIs\"].apply(lambda x: filter_and_clean_cuis(x, set(most_frequent_cuis.keys())))\n",
    "    # deletes rows without cuis\n",
    "    df= df.dropna(subset=[\"CUIs\"])\n",
    "    \n",
    "    df = df.set_index(\"ID\")\n",
    "\n",
    "    # --------------------- CUIs filered! ----------------------\n",
    "\n",
    "    # add vec\n",
    "    df[\"CUIs_vec\"] = df[\"CUIs\"].apply(lambda cui_list: [most_frequent_cuis[cui] for cui in cui_list])\n",
    "\n",
    "    # add text\n",
    "    df = df.join(pd.read_csv(captions_path).set_index(\"ID\"), how=\"inner\")\n",
    "\n",
    "    # -------------------- images filering ---------------------\n",
    "    \n",
    "    print(\"Checking images, this might take a while...\")\n",
    "    def check_image(data_id):\n",
    "        img_path = f\"{images_dir}\\\\{data_id}.jpg\"\n",
    "        return img_path if os.path.isfile(img_path) else None\n",
    "\n",
    "    df[\"image_path\"] = df.index.map(check_image) \n",
    "\n",
    "    # delete rows without image\n",
    "    df = df.dropna(subset=[\"image_path\"])\n",
    "    \n",
    "    # ------------------- images filered! ----------------------\n",
    "    print(f\"Created dataframe for {split} with {len(df)} items\")\n",
    "    return df"
   ]
  },
  {
   "cell_type": "code",
   "execution_count": 16,
   "id": "4aae5bac",
   "metadata": {},
   "outputs": [
    {
     "name": "stdout",
     "output_type": "stream",
     "text": [
      "Checking images, this might take a while...\n",
      "Checking images, this might take a while...\n"
     ]
    }
   ],
   "source": [
    "df_train = create_dataframe(\"train\")\n",
    "df_train.to_pickle(\"..\\\\data\\\\interim\\\\df_train_interim.pkl\")\n",
    "\n",
    "df_test = create_dataframe(\"test\")\n",
    "df_test.to_pickle(\"..\\\\data\\\\interim\\\\df_test_interim.pkl\")\n"
   ]
  },
  {
   "cell_type": "code",
   "execution_count": 18,
   "id": "4dbdea20",
   "metadata": {},
   "outputs": [
    {
     "data": {
      "application/vnd.microsoft.datawrangler.viewer.v0+json": {
       "columns": [
        {
         "name": "ID",
         "rawType": "object",
         "type": "string"
        },
        {
         "name": "CUIs",
         "rawType": "object",
         "type": "unknown"
        },
        {
         "name": "CUIs_vec",
         "rawType": "object",
         "type": "unknown"
        },
        {
         "name": "Caption",
         "rawType": "object",
         "type": "string"
        },
        {
         "name": "image_path",
         "rawType": "object",
         "type": "string"
        }
       ],
       "ref": "bae615b3-4c3a-43a0-bfb0-b0008069167a",
       "rows": [
        [
         "ROCOv2_2023_train_000001",
         "['C0040405']",
         "[1]",
         "Head CT demonstrating left parotiditis.",
         "..\\data\\raw\\train\\ROCOv2_2023_train_000001.jpg"
        ],
        [
         "ROCOv2_2023_train_000002",
         "['C0041618']",
         "[4]",
         "Acquired renal cysts in end-stage renal failure: 16-year-old girl with Alport syndrome and peritoneal dialysis from the age of 2 years",
         "..\\data\\raw\\train\\ROCOv2_2023_train_000002.jpg"
        ],
        [
         "ROCOv2_2023_train_000003",
         "['C0040405', 'C0817096', 'C0205271']",
         "[1, 5, 38]",
         "Computed tomography of the chest showing the right breast nodule with irregular margins",
         "..\\data\\raw\\train\\ROCOv2_2023_train_000003.jpg"
        ],
        [
         "ROCOv2_2023_train_000004",
         "['C0002978', 'C0036033', 'C1266909', 'C0225317']",
         "[7, 157, 22, 28]",
         "Lateral view of the sacrum showing the low contrast between bone and soft tissue.",
         "..\\data\\raw\\train\\ROCOv2_2023_train_000004.jpg"
        ],
        [
         "ROCOv2_2023_train_000005",
         "['C0040405', 'C0817096', 'C0497156']",
         "[1, 5, 94]",
         "Thoracic CT scan showing perihilar pulmonary lymphadenomegaly",
         "..\\data\\raw\\train\\ROCOv2_2023_train_000005.jpg"
        ]
       ],
       "shape": {
        "columns": 4,
        "rows": 5
       }
      },
      "text/html": [
       "<div>\n",
       "<style scoped>\n",
       "    .dataframe tbody tr th:only-of-type {\n",
       "        vertical-align: middle;\n",
       "    }\n",
       "\n",
       "    .dataframe tbody tr th {\n",
       "        vertical-align: top;\n",
       "    }\n",
       "\n",
       "    .dataframe thead th {\n",
       "        text-align: right;\n",
       "    }\n",
       "</style>\n",
       "<table border=\"1\" class=\"dataframe\">\n",
       "  <thead>\n",
       "    <tr style=\"text-align: right;\">\n",
       "      <th></th>\n",
       "      <th>CUIs</th>\n",
       "      <th>CUIs_vec</th>\n",
       "      <th>Caption</th>\n",
       "      <th>image_path</th>\n",
       "    </tr>\n",
       "    <tr>\n",
       "      <th>ID</th>\n",
       "      <th></th>\n",
       "      <th></th>\n",
       "      <th></th>\n",
       "      <th></th>\n",
       "    </tr>\n",
       "  </thead>\n",
       "  <tbody>\n",
       "    <tr>\n",
       "      <th>ROCOv2_2023_train_000001</th>\n",
       "      <td>[C0040405]</td>\n",
       "      <td>[1]</td>\n",
       "      <td>Head CT demonstrating left parotiditis.</td>\n",
       "      <td>..\\data\\raw\\train\\ROCOv2_2023_train_000001.jpg</td>\n",
       "    </tr>\n",
       "    <tr>\n",
       "      <th>ROCOv2_2023_train_000002</th>\n",
       "      <td>[C0041618]</td>\n",
       "      <td>[4]</td>\n",
       "      <td>Acquired renal cysts in end-stage renal failur...</td>\n",
       "      <td>..\\data\\raw\\train\\ROCOv2_2023_train_000002.jpg</td>\n",
       "    </tr>\n",
       "    <tr>\n",
       "      <th>ROCOv2_2023_train_000003</th>\n",
       "      <td>[C0040405, C0817096, C0205271]</td>\n",
       "      <td>[1, 5, 38]</td>\n",
       "      <td>Computed tomography of the chest showing the r...</td>\n",
       "      <td>..\\data\\raw\\train\\ROCOv2_2023_train_000003.jpg</td>\n",
       "    </tr>\n",
       "    <tr>\n",
       "      <th>ROCOv2_2023_train_000004</th>\n",
       "      <td>[C0002978, C0036033, C1266909, C0225317]</td>\n",
       "      <td>[7, 157, 22, 28]</td>\n",
       "      <td>Lateral view of the sacrum showing the low con...</td>\n",
       "      <td>..\\data\\raw\\train\\ROCOv2_2023_train_000004.jpg</td>\n",
       "    </tr>\n",
       "    <tr>\n",
       "      <th>ROCOv2_2023_train_000005</th>\n",
       "      <td>[C0040405, C0817096, C0497156]</td>\n",
       "      <td>[1, 5, 94]</td>\n",
       "      <td>Thoracic CT scan showing perihilar pulmonary l...</td>\n",
       "      <td>..\\data\\raw\\train\\ROCOv2_2023_train_000005.jpg</td>\n",
       "    </tr>\n",
       "  </tbody>\n",
       "</table>\n",
       "</div>"
      ],
      "text/plain": [
       "                                                              CUIs  \\\n",
       "ID                                                                   \n",
       "ROCOv2_2023_train_000001                                [C0040405]   \n",
       "ROCOv2_2023_train_000002                                [C0041618]   \n",
       "ROCOv2_2023_train_000003            [C0040405, C0817096, C0205271]   \n",
       "ROCOv2_2023_train_000004  [C0002978, C0036033, C1266909, C0225317]   \n",
       "ROCOv2_2023_train_000005            [C0040405, C0817096, C0497156]   \n",
       "\n",
       "                                  CUIs_vec  \\\n",
       "ID                                           \n",
       "ROCOv2_2023_train_000001               [1]   \n",
       "ROCOv2_2023_train_000002               [4]   \n",
       "ROCOv2_2023_train_000003        [1, 5, 38]   \n",
       "ROCOv2_2023_train_000004  [7, 157, 22, 28]   \n",
       "ROCOv2_2023_train_000005        [1, 5, 94]   \n",
       "\n",
       "                                                                    Caption  \\\n",
       "ID                                                                            \n",
       "ROCOv2_2023_train_000001            Head CT demonstrating left parotiditis.   \n",
       "ROCOv2_2023_train_000002  Acquired renal cysts in end-stage renal failur...   \n",
       "ROCOv2_2023_train_000003  Computed tomography of the chest showing the r...   \n",
       "ROCOv2_2023_train_000004  Lateral view of the sacrum showing the low con...   \n",
       "ROCOv2_2023_train_000005  Thoracic CT scan showing perihilar pulmonary l...   \n",
       "\n",
       "                                                              image_path  \n",
       "ID                                                                        \n",
       "ROCOv2_2023_train_000001  ..\\data\\raw\\train\\ROCOv2_2023_train_000001.jpg  \n",
       "ROCOv2_2023_train_000002  ..\\data\\raw\\train\\ROCOv2_2023_train_000002.jpg  \n",
       "ROCOv2_2023_train_000003  ..\\data\\raw\\train\\ROCOv2_2023_train_000003.jpg  \n",
       "ROCOv2_2023_train_000004  ..\\data\\raw\\train\\ROCOv2_2023_train_000004.jpg  \n",
       "ROCOv2_2023_train_000005  ..\\data\\raw\\train\\ROCOv2_2023_train_000005.jpg  "
      ]
     },
     "execution_count": 18,
     "metadata": {},
     "output_type": "execute_result"
    }
   ],
   "source": [
    "df_train.head()"
   ]
  },
  {
   "cell_type": "markdown",
   "id": "cb87cd95",
   "metadata": {},
   "source": [
    "# Adding Semantic types\n",
    "To do this, we first have to connect to the UMLS API and iterate through every cui to get it's semantic. <br>\n",
    "To use this, you need an UMLS API KEY that you can request for free at https://www.nlm.nih.gov/research/umls/index.html <br>\n",
    "Unfortunately, the api does not support batch requests, so the process will take a while.\n"
   ]
  },
  {
   "cell_type": "code",
   "execution_count": 19,
   "id": "932af018",
   "metadata": {},
   "outputs": [],
   "source": [
    "cui_set = set()\n",
    "for cui in df_train[\"CUIs\"].explode().to_list() + df_test[\"CUIs\"].explode().to_list():\n",
    "    cui_set.add(cui)"
   ]
  },
  {
   "cell_type": "code",
   "execution_count": null,
   "id": "d9098bd1",
   "metadata": {},
   "outputs": [],
   "source": [
    "cuis_semantic_types = dict()\n",
    "for idx,cui in enumerate(cui_set):\n",
    "    print(f\"\\rProcessing CUI {idx+1}/{len(cui_set)}\", flush=True, end=\"\")\n",
    "    # get cui information\n",
    "    api = API(api_key=os.getenv(\"UMLS_API_KEY\"))\n",
    "    resp = api.get_cui(cui=cui)\n",
    "    \n",
    "    # get semantic types\n",
    "    cui_semantic_types = resp[\"result\"][\"semanticTypes\"]\n",
    "    names = [st[\"name\"] for st in cui_semantic_types]\n",
    "    \n",
    "    # get all the semantic types for that cui \n",
    "    cuis_semantic_types[cui] = set()\n",
    "    for name in names:\n",
    "        cuis_semantic_types[cui].add(name)\n",
    "\n",
    "with open(\"..\\\\data\\\\interim\\\\cuis_semantic_types.pkl\", \"wb\") as f:\n",
    "    pickle.dump(cuis_semantic_types, f)"
   ]
  },
  {
   "cell_type": "markdown",
   "id": "646ce4ee",
   "metadata": {},
   "source": [
    "# Creating final dataframe\n",
    "Now, we get the final dataframe with the semantic types"
   ]
  },
  {
   "cell_type": "code",
   "execution_count": 25,
   "id": "b7f6a7bf",
   "metadata": {},
   "outputs": [],
   "source": [
    "def add_semantic_types(df):\n",
    "    semantic_types = []\n",
    "    for cuis in df[\"CUIs\"]:\n",
    "        data_semantic_types = set()\n",
    "        for cui in cuis:\n",
    "            for semantic_type in cuis_semantic_types.get(cui):\n",
    "                data_semantic_types.add(semantic_type)\n",
    "        semantic_types.append(list(data_semantic_types))\n",
    "    \n",
    "    df[\"Semantic\"] = semantic_types"
   ]
  },
  {
   "cell_type": "code",
   "execution_count": 27,
   "id": "72004000",
   "metadata": {},
   "outputs": [],
   "source": [
    "add_semantic_types(df_train)\n",
    "add_semantic_types(df_test)"
   ]
  },
  {
   "cell_type": "code",
   "execution_count": 28,
   "id": "e76630cd",
   "metadata": {},
   "outputs": [],
   "source": [
    "all_semantic_types = set(df_train[\"Semantic\"].explode().tolist() + df_train[\"Semantic\"].explode().tolist())\n",
    "\n",
    "semantic_types_num = {k: i for k, i in zip(all_semantic_types, range(1, len(all_semantic_types)+1))} # get a number for each semantic type"
   ]
  },
  {
   "cell_type": "code",
   "execution_count": 29,
   "id": "fa30ea4c",
   "metadata": {},
   "outputs": [],
   "source": [
    "def add_semantic_vec(df):\n",
    "    semantic_vec = []\n",
    "    for semantics in df[\"Semantic\"]:\n",
    "        semantic_nums = []\n",
    "        for semantic in semantics:\n",
    "            semantic_nums.append(semantic_types_num.get(semantic))\n",
    "        semantic_vec.append(semantic_nums)\n",
    "    df[\"Semantic_vec\"] = semantic_vec"
   ]
  },
  {
   "cell_type": "code",
   "execution_count": 30,
   "id": "c154762e",
   "metadata": {},
   "outputs": [],
   "source": [
    "add_semantic_vec(df_train)\n",
    "add_semantic_vec(df_test)"
   ]
  },
  {
   "cell_type": "code",
   "execution_count": 31,
   "id": "91550b9f",
   "metadata": {},
   "outputs": [
    {
     "data": {
      "application/vnd.microsoft.datawrangler.viewer.v0+json": {
       "columns": [
        {
         "name": "ID",
         "rawType": "object",
         "type": "string"
        },
        {
         "name": "CUIs",
         "rawType": "object",
         "type": "unknown"
        },
        {
         "name": "CUIs_vec",
         "rawType": "object",
         "type": "unknown"
        },
        {
         "name": "Caption",
         "rawType": "object",
         "type": "string"
        },
        {
         "name": "image_path",
         "rawType": "object",
         "type": "string"
        },
        {
         "name": "Semantic",
         "rawType": "object",
         "type": "unknown"
        },
        {
         "name": "Semantic_vec",
         "rawType": "object",
         "type": "unknown"
        }
       ],
       "ref": "17196204-75e5-477e-a780-0ba4fed18923",
       "rows": [
        [
         "ROCOv2_2023_train_000001",
         "['C0040405']",
         "[1]",
         "Head CT demonstrating left parotiditis.",
         "..\\data\\raw\\train\\ROCOv2_2023_train_000001.jpg",
         "['Diagnostic Procedure']",
         "[5]"
        ],
        [
         "ROCOv2_2023_train_000002",
         "['C0041618']",
         "[4]",
         "Acquired renal cysts in end-stage renal failure: 16-year-old girl with Alport syndrome and peritoneal dialysis from the age of 2 years",
         "..\\data\\raw\\train\\ROCOv2_2023_train_000002.jpg",
         "['Diagnostic Procedure']",
         "[5]"
        ],
        [
         "ROCOv2_2023_train_000003",
         "['C0040405', 'C0817096', 'C0205271']",
         "[1, 5, 38]",
         "Computed tomography of the chest showing the right breast nodule with irregular margins",
         "..\\data\\raw\\train\\ROCOv2_2023_train_000003.jpg",
         "['Body Location or Region', 'Qualitative Concept', 'Diagnostic Procedure']",
         "[1, 8, 5]"
        ],
        [
         "ROCOv2_2023_train_000004",
         "['C0002978', 'C0036033', 'C1266909', 'C0225317']",
         "[7, 157, 22, 28]",
         "Lateral view of the sacrum showing the low contrast between bone and soft tissue.",
         "..\\data\\raw\\train\\ROCOv2_2023_train_000004.jpg",
         "['Body Location or Region', 'Tissue', 'Diagnostic Procedure', 'Body System']",
         "[1, 15, 5, 6]"
        ],
        [
         "ROCOv2_2023_train_000005",
         "['C0040405', 'C0817096', 'C0497156']",
         "[1, 5, 94]",
         "Thoracic CT scan showing perihilar pulmonary lymphadenomegaly",
         "..\\data\\raw\\train\\ROCOv2_2023_train_000005.jpg",
         "['Body Location or Region', 'Diagnostic Procedure', 'Disease or Syndrome']",
         "[1, 5, 4]"
        ]
       ],
       "shape": {
        "columns": 6,
        "rows": 5
       }
      },
      "text/html": [
       "<div>\n",
       "<style scoped>\n",
       "    .dataframe tbody tr th:only-of-type {\n",
       "        vertical-align: middle;\n",
       "    }\n",
       "\n",
       "    .dataframe tbody tr th {\n",
       "        vertical-align: top;\n",
       "    }\n",
       "\n",
       "    .dataframe thead th {\n",
       "        text-align: right;\n",
       "    }\n",
       "</style>\n",
       "<table border=\"1\" class=\"dataframe\">\n",
       "  <thead>\n",
       "    <tr style=\"text-align: right;\">\n",
       "      <th></th>\n",
       "      <th>CUIs</th>\n",
       "      <th>CUIs_vec</th>\n",
       "      <th>Caption</th>\n",
       "      <th>image_path</th>\n",
       "      <th>Semantic</th>\n",
       "      <th>Semantic_vec</th>\n",
       "    </tr>\n",
       "    <tr>\n",
       "      <th>ID</th>\n",
       "      <th></th>\n",
       "      <th></th>\n",
       "      <th></th>\n",
       "      <th></th>\n",
       "      <th></th>\n",
       "      <th></th>\n",
       "    </tr>\n",
       "  </thead>\n",
       "  <tbody>\n",
       "    <tr>\n",
       "      <th>ROCOv2_2023_train_000001</th>\n",
       "      <td>[C0040405]</td>\n",
       "      <td>[1]</td>\n",
       "      <td>Head CT demonstrating left parotiditis.</td>\n",
       "      <td>..\\data\\raw\\train\\ROCOv2_2023_train_000001.jpg</td>\n",
       "      <td>[Diagnostic Procedure]</td>\n",
       "      <td>[5]</td>\n",
       "    </tr>\n",
       "    <tr>\n",
       "      <th>ROCOv2_2023_train_000002</th>\n",
       "      <td>[C0041618]</td>\n",
       "      <td>[4]</td>\n",
       "      <td>Acquired renal cysts in end-stage renal failur...</td>\n",
       "      <td>..\\data\\raw\\train\\ROCOv2_2023_train_000002.jpg</td>\n",
       "      <td>[Diagnostic Procedure]</td>\n",
       "      <td>[5]</td>\n",
       "    </tr>\n",
       "    <tr>\n",
       "      <th>ROCOv2_2023_train_000003</th>\n",
       "      <td>[C0040405, C0817096, C0205271]</td>\n",
       "      <td>[1, 5, 38]</td>\n",
       "      <td>Computed tomography of the chest showing the r...</td>\n",
       "      <td>..\\data\\raw\\train\\ROCOv2_2023_train_000003.jpg</td>\n",
       "      <td>[Body Location or Region, Qualitative Concept,...</td>\n",
       "      <td>[1, 8, 5]</td>\n",
       "    </tr>\n",
       "    <tr>\n",
       "      <th>ROCOv2_2023_train_000004</th>\n",
       "      <td>[C0002978, C0036033, C1266909, C0225317]</td>\n",
       "      <td>[7, 157, 22, 28]</td>\n",
       "      <td>Lateral view of the sacrum showing the low con...</td>\n",
       "      <td>..\\data\\raw\\train\\ROCOv2_2023_train_000004.jpg</td>\n",
       "      <td>[Body Location or Region, Tissue, Diagnostic P...</td>\n",
       "      <td>[1, 15, 5, 6]</td>\n",
       "    </tr>\n",
       "    <tr>\n",
       "      <th>ROCOv2_2023_train_000005</th>\n",
       "      <td>[C0040405, C0817096, C0497156]</td>\n",
       "      <td>[1, 5, 94]</td>\n",
       "      <td>Thoracic CT scan showing perihilar pulmonary l...</td>\n",
       "      <td>..\\data\\raw\\train\\ROCOv2_2023_train_000005.jpg</td>\n",
       "      <td>[Body Location or Region, Diagnostic Procedure...</td>\n",
       "      <td>[1, 5, 4]</td>\n",
       "    </tr>\n",
       "  </tbody>\n",
       "</table>\n",
       "</div>"
      ],
      "text/plain": [
       "                                                              CUIs  \\\n",
       "ID                                                                   \n",
       "ROCOv2_2023_train_000001                                [C0040405]   \n",
       "ROCOv2_2023_train_000002                                [C0041618]   \n",
       "ROCOv2_2023_train_000003            [C0040405, C0817096, C0205271]   \n",
       "ROCOv2_2023_train_000004  [C0002978, C0036033, C1266909, C0225317]   \n",
       "ROCOv2_2023_train_000005            [C0040405, C0817096, C0497156]   \n",
       "\n",
       "                                  CUIs_vec  \\\n",
       "ID                                           \n",
       "ROCOv2_2023_train_000001               [1]   \n",
       "ROCOv2_2023_train_000002               [4]   \n",
       "ROCOv2_2023_train_000003        [1, 5, 38]   \n",
       "ROCOv2_2023_train_000004  [7, 157, 22, 28]   \n",
       "ROCOv2_2023_train_000005        [1, 5, 94]   \n",
       "\n",
       "                                                                    Caption  \\\n",
       "ID                                                                            \n",
       "ROCOv2_2023_train_000001            Head CT demonstrating left parotiditis.   \n",
       "ROCOv2_2023_train_000002  Acquired renal cysts in end-stage renal failur...   \n",
       "ROCOv2_2023_train_000003  Computed tomography of the chest showing the r...   \n",
       "ROCOv2_2023_train_000004  Lateral view of the sacrum showing the low con...   \n",
       "ROCOv2_2023_train_000005  Thoracic CT scan showing perihilar pulmonary l...   \n",
       "\n",
       "                                                              image_path  \\\n",
       "ID                                                                         \n",
       "ROCOv2_2023_train_000001  ..\\data\\raw\\train\\ROCOv2_2023_train_000001.jpg   \n",
       "ROCOv2_2023_train_000002  ..\\data\\raw\\train\\ROCOv2_2023_train_000002.jpg   \n",
       "ROCOv2_2023_train_000003  ..\\data\\raw\\train\\ROCOv2_2023_train_000003.jpg   \n",
       "ROCOv2_2023_train_000004  ..\\data\\raw\\train\\ROCOv2_2023_train_000004.jpg   \n",
       "ROCOv2_2023_train_000005  ..\\data\\raw\\train\\ROCOv2_2023_train_000005.jpg   \n",
       "\n",
       "                                                                   Semantic  \\\n",
       "ID                                                                            \n",
       "ROCOv2_2023_train_000001                             [Diagnostic Procedure]   \n",
       "ROCOv2_2023_train_000002                             [Diagnostic Procedure]   \n",
       "ROCOv2_2023_train_000003  [Body Location or Region, Qualitative Concept,...   \n",
       "ROCOv2_2023_train_000004  [Body Location or Region, Tissue, Diagnostic P...   \n",
       "ROCOv2_2023_train_000005  [Body Location or Region, Diagnostic Procedure...   \n",
       "\n",
       "                           Semantic_vec  \n",
       "ID                                       \n",
       "ROCOv2_2023_train_000001            [5]  \n",
       "ROCOv2_2023_train_000002            [5]  \n",
       "ROCOv2_2023_train_000003      [1, 8, 5]  \n",
       "ROCOv2_2023_train_000004  [1, 15, 5, 6]  \n",
       "ROCOv2_2023_train_000005      [1, 5, 4]  "
      ]
     },
     "execution_count": 31,
     "metadata": {},
     "output_type": "execute_result"
    }
   ],
   "source": [
    "df_train.head()"
   ]
  },
  {
   "cell_type": "code",
   "execution_count": 32,
   "id": "51fb251f",
   "metadata": {},
   "outputs": [],
   "source": [
    "df_train.to_pickle(\"..\\\\data\\\\processed\\\\df_train.pkl\")\n",
    "df_test.to_pickle(\"..\\\\data\\\\processed\\\\df_test.pkl\")"
   ]
  }
 ],
 "metadata": {
  "kernelspec": {
   "display_name": "myenv",
   "language": "python",
   "name": "python3"
  },
  "language_info": {
   "codemirror_mode": {
    "name": "ipython",
    "version": 3
   },
   "file_extension": ".py",
   "mimetype": "text/x-python",
   "name": "python",
   "nbconvert_exporter": "python",
   "pygments_lexer": "ipython3",
   "version": "3.12.10"
  }
 },
 "nbformat": 4,
 "nbformat_minor": 5
}
